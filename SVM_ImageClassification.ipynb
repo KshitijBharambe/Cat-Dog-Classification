{
 "cells": [
  {
   "cell_type": "markdown",
   "metadata": {},
   "source": [
    "# Cat vs Dog Image Classification using SVM\n",
    "This notebook demonstrates the process of using Support Vector Machine (SVM) models to classify images into 'cats' or 'dogs'."
   ]
  },
  {
   "cell_type": "markdown",
   "metadata": {},
   "source": [
    "## Import Libraries\n",
    "Import necessary libraries for image processing and machine learning."
   ]
  },
  {
   "cell_type": "code",
   "execution_count": 1,
   "metadata": {},
   "outputs": [],
   "source": [
    "import cv2\n",
    "import os\n",
    "import numpy as np\n",
    "from skimage.feature import hog\n",
    "from sklearn.model_selection import train_test_split\n",
    "import pandas as pd\n",
    "from sklearn.metrics import accuracy_score, classification_report\n",
    "from sklearn import svm"
   ]
  },
  {
   "cell_type": "markdown",
   "metadata": {},
   "source": [
    "## Function Definitions\n",
    "Here, we define functions for image processing, loading data, and extracting features."
   ]
  },
  {
   "cell_type": "code",
   "execution_count": 2,
   "metadata": {},
   "outputs": [],
   "source": [
    "def process_image(img_path):\n",
    "    \"\"\"\n",
    "    Processes an image: reads, converts to grayscale, resizes, and extracts HOG features.\n",
    "    \n",
    "        Args:\n",
    "        img_path (str): Path to the image file.\n",
    "    \n",
    "        Returns:\n",
    "        np.array: Array of HOG features of the image.\n",
    "    \"\"\"\n",
    "\n",
    "    img = cv2.imread(img_path)\n",
    "    img_gray = cv2.cvtColor(img, cv2.COLOR_BGR2GRAY)\n",
    "    img_gray = cv2.resize(img_gray, (64, 64))\n",
    "    features, hog_image = hog(img_gray, orientations=9, pixels_per_cell=(8, 8), \n",
    "                              cells_per_block=(2, 2), visualize=True)\n",
    "    return features"
   ]
  },
  {
   "cell_type": "code",
   "execution_count": 3,
   "metadata": {},
   "outputs": [],
   "source": [
    "def process_directory(directory, label_code):\n",
    "    \"\"\"\n",
    "    Processes all images in a directory using `process_image` function.\n",
    "    \n",
    "        Args:\n",
    "        directory (str): Path to the directory containing images.\n",
    "        label_code (int): Numeric label for images in this directory.\n",
    "    \n",
    "        Returns:\n",
    "        Tuple: (List of image features, List of labels, List of filenames).\n",
    "\n",
    "    \"\"\"\n",
    "    \n",
    "    images = []\n",
    "    filenames = []\n",
    "    for filename in os.listdir(directory):\n",
    "        if filename.startswith('.'):\n",
    "            continue\n",
    "        img_path = os.path.join(directory, filename)\n",
    "        images.append(process_image(img_path))\n",
    "        filenames.append(filename)\n",
    "    return images, [label_code] * len(images), filenames"
   ]
  },
  {
   "cell_type": "markdown",
   "metadata": {},
   "source": [
    "## Load and Process Data\n",
    "Load the training and test data, process the images, and extract features."
   ]
  },
  {
   "cell_type": "code",
   "execution_count": 4,
   "metadata": {},
   "outputs": [],
   "source": [
    "def load_images_and_features(folder):\n",
    "    \"\"\"\n",
    "    Loads and processes images from subdirectories of a folder, assigns labels, and extracts features.\n",
    "    \n",
    "        Args:\n",
    "        folder (str): Path to the folder containing subdirectories of images.\n",
    "    \n",
    "        Returns:\n",
    "        Tuple: (Array of all features, Array of all labels, List of all filenames).\n",
    "    \n",
    "    \"\"\"\n",
    "    \n",
    "    all_images = []\n",
    "    all_labels = []\n",
    "    all_filenames = []\n",
    "    for label in os.listdir(folder):\n",
    "        path = os.path.join(folder, label)\n",
    "        if not os.path.isdir(path):\n",
    "            continue\n",
    "        label_code = 0 if \"cat\" in label else 1\n",
    "        images, labels, filenames = process_directory(path, label_code)\n",
    "        all_images.extend(images)\n",
    "        all_labels.extend(labels)\n",
    "        all_filenames.extend(filenames)\n",
    "    return np.array(all_images), np.array(all_labels), all_filenames"
   ]
  },
  {
   "cell_type": "code",
   "execution_count": 5,
   "metadata": {},
   "outputs": [],
   "source": [
    "def map_label(numeric_label):\n",
    "    \"\"\"\n",
    "    Maps a numeric label to a string label.\n",
    "    \n",
    "        Args:\n",
    "        numeric_label (int): Numeric label to be mapped.\n",
    "    \n",
    "        Returns:\n",
    "        str: Mapped string label ('cat' or 'dog').\n",
    "\n",
    "    \"\"\"\n",
    "\n",
    "    return 'cat' if numeric_label == 0 else 'dog'"
   ]
  },
  {
   "cell_type": "code",
   "execution_count": 6,
   "metadata": {},
   "outputs": [],
   "source": [
    "def create_results_df(model, X_test, y_test, test_filenames):\n",
    "    \"\"\"\n",
    "    Creates a DataFrame of model predictions along with actual labels and correctness.\n",
    "    \n",
    "        Args:\n",
    "        model (SVM model): Trained SVM model.\n",
    "        X_test (np.array): Test features.\n",
    "        y_test (np.array): Actual labels of test data.\n",
    "        test_filenames (List): List of test image filenames.\n",
    "    \n",
    "        Returns:\n",
    "        pd.DataFrame: DataFrame containing predictions, actual labels, and correctness.\n",
    "    \n",
    "\n",
    "    \"\"\"\n",
    "    \n",
    "    y_pred = model.predict(X_test)\n",
    "    mapped_predictions = [map_label(pred) for pred in y_pred]\n",
    "    mapped_actuals = [map_label(actual) for actual in y_test]\n",
    "    return pd.DataFrame({\n",
    "        'Filename': test_filenames,\n",
    "        'Prediction': mapped_predictions,\n",
    "        'Actual': mapped_actuals,\n",
    "        'Correct?': y_pred == y_test\n",
    "    })"
   ]
  },
  {
   "cell_type": "markdown",
   "metadata": {},
   "source": [
    "## Train SVM Models\n",
    "Training different SVM models with various kernels (linear, RBF, sigmoid) to classify the images."
   ]
  },
  {
   "cell_type": "code",
   "execution_count": 7,
   "metadata": {},
   "outputs": [
    {
     "data": {
      "text/html": [
       "<style>#sk-container-id-1 {color: black;}#sk-container-id-1 pre{padding: 0;}#sk-container-id-1 div.sk-toggleable {background-color: white;}#sk-container-id-1 label.sk-toggleable__label {cursor: pointer;display: block;width: 100%;margin-bottom: 0;padding: 0.3em;box-sizing: border-box;text-align: center;}#sk-container-id-1 label.sk-toggleable__label-arrow:before {content: \"▸\";float: left;margin-right: 0.25em;color: #696969;}#sk-container-id-1 label.sk-toggleable__label-arrow:hover:before {color: black;}#sk-container-id-1 div.sk-estimator:hover label.sk-toggleable__label-arrow:before {color: black;}#sk-container-id-1 div.sk-toggleable__content {max-height: 0;max-width: 0;overflow: hidden;text-align: left;background-color: #f0f8ff;}#sk-container-id-1 div.sk-toggleable__content pre {margin: 0.2em;color: black;border-radius: 0.25em;background-color: #f0f8ff;}#sk-container-id-1 input.sk-toggleable__control:checked~div.sk-toggleable__content {max-height: 200px;max-width: 100%;overflow: auto;}#sk-container-id-1 input.sk-toggleable__control:checked~label.sk-toggleable__label-arrow:before {content: \"▾\";}#sk-container-id-1 div.sk-estimator input.sk-toggleable__control:checked~label.sk-toggleable__label {background-color: #d4ebff;}#sk-container-id-1 div.sk-label input.sk-toggleable__control:checked~label.sk-toggleable__label {background-color: #d4ebff;}#sk-container-id-1 input.sk-hidden--visually {border: 0;clip: rect(1px 1px 1px 1px);clip: rect(1px, 1px, 1px, 1px);height: 1px;margin: -1px;overflow: hidden;padding: 0;position: absolute;width: 1px;}#sk-container-id-1 div.sk-estimator {font-family: monospace;background-color: #f0f8ff;border: 1px dotted black;border-radius: 0.25em;box-sizing: border-box;margin-bottom: 0.5em;}#sk-container-id-1 div.sk-estimator:hover {background-color: #d4ebff;}#sk-container-id-1 div.sk-parallel-item::after {content: \"\";width: 100%;border-bottom: 1px solid gray;flex-grow: 1;}#sk-container-id-1 div.sk-label:hover label.sk-toggleable__label {background-color: #d4ebff;}#sk-container-id-1 div.sk-serial::before {content: \"\";position: absolute;border-left: 1px solid gray;box-sizing: border-box;top: 0;bottom: 0;left: 50%;z-index: 0;}#sk-container-id-1 div.sk-serial {display: flex;flex-direction: column;align-items: center;background-color: white;padding-right: 0.2em;padding-left: 0.2em;position: relative;}#sk-container-id-1 div.sk-item {position: relative;z-index: 1;}#sk-container-id-1 div.sk-parallel {display: flex;align-items: stretch;justify-content: center;background-color: white;position: relative;}#sk-container-id-1 div.sk-item::before, #sk-container-id-1 div.sk-parallel-item::before {content: \"\";position: absolute;border-left: 1px solid gray;box-sizing: border-box;top: 0;bottom: 0;left: 50%;z-index: -1;}#sk-container-id-1 div.sk-parallel-item {display: flex;flex-direction: column;z-index: 1;position: relative;background-color: white;}#sk-container-id-1 div.sk-parallel-item:first-child::after {align-self: flex-end;width: 50%;}#sk-container-id-1 div.sk-parallel-item:last-child::after {align-self: flex-start;width: 50%;}#sk-container-id-1 div.sk-parallel-item:only-child::after {width: 0;}#sk-container-id-1 div.sk-dashed-wrapped {border: 1px dashed gray;margin: 0 0.4em 0.5em 0.4em;box-sizing: border-box;padding-bottom: 0.4em;background-color: white;}#sk-container-id-1 div.sk-label label {font-family: monospace;font-weight: bold;display: inline-block;line-height: 1.2em;}#sk-container-id-1 div.sk-label-container {text-align: center;}#sk-container-id-1 div.sk-container {/* jupyter's `normalize.less` sets `[hidden] { display: none; }` but bootstrap.min.css set `[hidden] { display: none !important; }` so we also need the `!important` here to be able to override the default hidden behavior on the sphinx rendered scikit-learn.org. See: https://github.com/scikit-learn/scikit-learn/issues/21755 */display: inline-block !important;position: relative;}#sk-container-id-1 div.sk-text-repr-fallback {display: none;}</style><div id=\"sk-container-id-1\" class=\"sk-top-container\"><div class=\"sk-text-repr-fallback\"><pre>SVC(kernel=&#x27;sigmoid&#x27;)</pre><b>In a Jupyter environment, please rerun this cell to show the HTML representation or trust the notebook. <br />On GitHub, the HTML representation is unable to render, please try loading this page with nbviewer.org.</b></div><div class=\"sk-container\" hidden><div class=\"sk-item\"><div class=\"sk-estimator sk-toggleable\"><input class=\"sk-toggleable__control sk-hidden--visually\" id=\"sk-estimator-id-1\" type=\"checkbox\" checked><label for=\"sk-estimator-id-1\" class=\"sk-toggleable__label sk-toggleable__label-arrow\">SVC</label><div class=\"sk-toggleable__content\"><pre>SVC(kernel=&#x27;sigmoid&#x27;)</pre></div></div></div></div></div>"
      ],
      "text/plain": [
       "SVC(kernel='sigmoid')"
      ]
     },
     "execution_count": 7,
     "metadata": {},
     "output_type": "execute_result"
    }
   ],
   "source": [
    "X_train, y_train, train_filenames = load_images_and_features('train')\n",
    "X_test, y_test, test_filenames = load_images_and_features('test')\n",
    "\n",
    "linear_model = svm.SVC(kernel='linear')\n",
    "linear_model.fit(X_train, y_train)\n",
    "\n",
    "rbf_model = svm.SVC(kernel='rbf', random_state = 0)\n",
    "rbf_model.fit(X_train, y_train)\n",
    "\n",
    "sigmoid_model = svm.SVC(kernel='sigmoid')\n",
    "sigmoid_model.fit(X_train, y_train)"
   ]
  },
  {
   "cell_type": "markdown",
   "metadata": {},
   "source": [
    "## Evaluate Models\n",
    "Evaluate each model's performance using accuracy and classification reports."
   ]
  },
  {
   "cell_type": "code",
   "execution_count": 8,
   "metadata": {},
   "outputs": [],
   "source": [
    "def evaluate_model(model, X_test, y_test, test_filenames):\n",
    "    \"\"\"\n",
    "        Evaluates a model on test data and prints results, accuracy, and classification report.\n",
    "    \n",
    "        Args:\n",
    "        model (SVM model): Trained SVM model to evaluate.\n",
    "        X_test (np.array): Test features for evaluation.\n",
    "        y_test (np.array): Actual labels for evaluation.\n",
    "        test_filenames (List): List of filenames for the test dataset.\n",
    "    \n",
    "        Returns:\n",
    "        pd.DataFrame: DataFrame of the evaluation results. \n",
    "\n",
    "    \"\"\"\n",
    "\n",
    "    y_pred = model.predict(X_test)\n",
    "    mapped_predictions = [map_label(pred) for pred in y_pred]\n",
    "    mapped_actuals = [map_label(actual) for actual in y_test]\n",
    "    results_df = pd.DataFrame({\n",
    "        'Filename': test_filenames,\n",
    "        'Prediction': mapped_predictions,\n",
    "        'Actual': mapped_actuals,\n",
    "        'Correct?': y_pred == y_test\n",
    "    })\n",
    "    print(results_df)\n",
    "    print('Accuracy:', accuracy_score(y_test, y_pred))\n",
    "    print('Classification Report:\\n', classification_report(y_test, y_pred))\n",
    "    return results_df\n"
   ]
  },
  {
   "cell_type": "code",
   "execution_count": 9,
   "metadata": {},
   "outputs": [
    {
     "name": "stdout",
     "output_type": "stream",
     "text": [
      "        Filename Prediction Actual  Correct?\n",
      "0    dog_147.jpg        cat    dog     False\n",
      "1    dog_219.jpg        dog    dog      True\n",
      "2    dog_191.jpg        cat    dog     False\n",
      "3    dog_344.jpg        dog    dog      True\n",
      "4    dog_150.jpg        dog    dog      True\n",
      "..           ...        ...    ...       ...\n",
      "135  cat_564.jpg        dog    cat     False\n",
      "136  cat_203.jpg        cat    cat      True\n",
      "137  cat_375.jpg        dog    cat     False\n",
      "138  cat_162.jpg        dog    cat     False\n",
      "139   cat_18.jpg        cat    cat      True\n",
      "\n",
      "[140 rows x 4 columns]\n",
      "Accuracy: 0.6214285714285714\n",
      "Classification Report:\n",
      "               precision    recall  f1-score   support\n",
      "\n",
      "           0       0.62      0.64      0.63        70\n",
      "           1       0.63      0.60      0.61        70\n",
      "\n",
      "    accuracy                           0.62       140\n",
      "   macro avg       0.62      0.62      0.62       140\n",
      "weighted avg       0.62      0.62      0.62       140\n",
      "\n"
     ]
    }
   ],
   "source": [
    "results_df1 = evaluate_model(linear_model, X_test, y_test, test_filenames)"
   ]
  },
  {
   "cell_type": "code",
   "execution_count": 10,
   "metadata": {},
   "outputs": [
    {
     "name": "stdout",
     "output_type": "stream",
     "text": [
      "        Filename Prediction Actual  Correct?\n",
      "0    dog_147.jpg        cat    dog     False\n",
      "1    dog_219.jpg        dog    dog      True\n",
      "2    dog_191.jpg        cat    dog     False\n",
      "3    dog_344.jpg        dog    dog      True\n",
      "4    dog_150.jpg        dog    dog      True\n",
      "..           ...        ...    ...       ...\n",
      "135  cat_564.jpg        dog    cat     False\n",
      "136  cat_203.jpg        dog    cat     False\n",
      "137  cat_375.jpg        dog    cat     False\n",
      "138  cat_162.jpg        dog    cat     False\n",
      "139   cat_18.jpg        dog    cat     False\n",
      "\n",
      "[140 rows x 4 columns]\n",
      "Accuracy: 0.6571428571428571\n",
      "Classification Report:\n",
      "               precision    recall  f1-score   support\n",
      "\n",
      "           0       0.68      0.59      0.63        70\n",
      "           1       0.64      0.73      0.68        70\n",
      "\n",
      "    accuracy                           0.66       140\n",
      "   macro avg       0.66      0.66      0.66       140\n",
      "weighted avg       0.66      0.66      0.66       140\n",
      "\n"
     ]
    }
   ],
   "source": [
    "results_df2 = evaluate_model(rbf_model, X_test, y_test, test_filenames)"
   ]
  },
  {
   "cell_type": "code",
   "execution_count": 11,
   "metadata": {},
   "outputs": [
    {
     "name": "stdout",
     "output_type": "stream",
     "text": [
      "        Filename Prediction Actual  Correct?\n",
      "0    dog_147.jpg        cat    dog     False\n",
      "1    dog_219.jpg        cat    dog     False\n",
      "2    dog_191.jpg        cat    dog     False\n",
      "3    dog_344.jpg        dog    dog      True\n",
      "4    dog_150.jpg        dog    dog      True\n",
      "..           ...        ...    ...       ...\n",
      "135  cat_564.jpg        dog    cat     False\n",
      "136  cat_203.jpg        dog    cat     False\n",
      "137  cat_375.jpg        cat    cat      True\n",
      "138  cat_162.jpg        dog    cat     False\n",
      "139   cat_18.jpg        dog    cat     False\n",
      "\n",
      "[140 rows x 4 columns]\n",
      "Accuracy: 0.5642857142857143\n",
      "Classification Report:\n",
      "               precision    recall  f1-score   support\n",
      "\n",
      "           0       0.55      0.70      0.62        70\n",
      "           1       0.59      0.43      0.50        70\n",
      "\n",
      "    accuracy                           0.56       140\n",
      "   macro avg       0.57      0.56      0.56       140\n",
      "weighted avg       0.57      0.56      0.56       140\n",
      "\n"
     ]
    }
   ],
   "source": [
    "results_df3 = evaluate_model(sigmoid_model, X_test, y_test, test_filenames)\n"
   ]
  },
  {
   "cell_type": "markdown",
   "metadata": {},
   "source": [
    "# Exporting the Output to .csv file"
   ]
  },
  {
   "cell_type": "code",
   "execution_count": 12,
   "metadata": {},
   "outputs": [],
   "source": [
    "def export_to_csv(df, filename, header_comment):\n",
    "    \"\"\"\n",
    "    Exports a DataFrame to a CSV file with an optional header comment.\n",
    "    \n",
    "        Args:\n",
    "        df (pd.DataFrame): DataFrame to be exported.\n",
    "        filename (str): Name of the output CSV file.\n",
    "        header_comment (str): Comment to be added as a header in the CSV file.\n",
    "    \n",
    "    \"\"\"\n",
    "    \n",
    "    with open(filename, 'w') as f:\n",
    "        f.write(f'# {header_comment}\\n')\n",
    "        df.to_csv(f, index=False)"
   ]
  },
  {
   "cell_type": "code",
   "execution_count": 13,
   "metadata": {},
   "outputs": [],
   "source": [
    "export_to_csv(results_df1, 'linear.csv', 'Results from linear SVM model')\n",
    "export_to_csv(results_df2, 'rbf.csv', 'Results from RBF SVM model')\n",
    "export_to_csv(results_df3, 'sigmoid.csv', 'Results from sigmoid SVM model')"
   ]
  }
 ],
 "metadata": {
  "kernelspec": {
   "display_name": "Python 3",
   "language": "python",
   "name": "python3"
  },
  "language_info": {
   "codemirror_mode": {
    "name": "ipython",
    "version": 3
   },
   "file_extension": ".py",
   "mimetype": "text/x-python",
   "name": "python",
   "nbconvert_exporter": "python",
   "pygments_lexer": "ipython3",
   "version": "3.11.5"
  }
 },
 "nbformat": 4,
 "nbformat_minor": 2
}
